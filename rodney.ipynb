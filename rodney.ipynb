{
 "cells": [
  {
   "cell_type": "code",
   "execution_count": 25,
   "metadata": {},
   "outputs": [],
   "source": [
    "import numpy as np\n",
    "import fuzzy\n",
    "import matplotlib.pyplot as plt\n",
    "import random"
   ]
  },
  {
   "cell_type": "code",
   "execution_count": 2,
   "metadata": {},
   "outputs": [],
   "source": [
    "fis = fuzzy.mandani()\n",
    "fis.add_var({\"type\":\"input\",\"name\":\"pop\",\"range\":[0.0,1.0]})\n",
    "fis.add_var({\"type\":\"input\",\"name\":\"fav\",\"range\":[0.0,1.0]})\n",
    "fis.add_var({\"type\":\"output\",\"name\":\"ctrl\",\"range\":[0.0,0.5]})\n",
    "\n",
    "fis.add_mfs({\"vartype\":\"input\",\"varname\":\"pop\",\"mfname\":\"BI\",\"params\":[0.0,0.0,0.20]})\n",
    "fis.add_mfs({\"vartype\":\"input\",\"varname\":\"pop\",\"mfname\":\"B\",\"params\":[0.0,0.20,0.4]})\n",
    "fis.add_mfs({\"vartype\":\"input\",\"varname\":\"pop\",\"mfname\":\"M\",\"params\":[0.2,0.4,0.6]})\n",
    "fis.add_mfs({\"vartype\":\"input\",\"varname\":\"pop\",\"mfname\":\"MA\",\"params\":[0.4,0.6,0.8]})\n",
    "fis.add_mfs({\"vartype\":\"input\",\"varname\":\"pop\",\"mfname\":\"A\",\"params\":[0.6,0.8,1.0]})\n",
    "fis.add_mfs({\"vartype\":\"input\",\"varname\":\"pop\",\"mfname\":\"AT\",\"params\":[0.8,1.0,1.0]})\n",
    "\n",
    "\n",
    "fis.add_mfs({\"vartype\":\"input\",\"varname\":\"fav\",\"mfname\":\"BI\",\"params\":[0.0,0.0,0.20]})\n",
    "fis.add_mfs({\"vartype\":\"input\",\"varname\":\"fav\",\"mfname\":\"B\",\"params\":[0.0,0.20,0.4]})\n",
    "fis.add_mfs({\"vartype\":\"input\",\"varname\":\"fav\",\"mfname\":\"M\",\"params\":[0.2,0.4,0.6]})\n",
    "fis.add_mfs({\"vartype\":\"input\",\"varname\":\"fav\",\"mfname\":\"MA\",\"params\":[0.4,0.6,0.8]})\n",
    "fis.add_mfs({\"vartype\":\"input\",\"varname\":\"fav\",\"mfname\":\"A\",\"params\":[0.6,0.8,1.0]})\n",
    "fis.add_mfs({\"vartype\":\"input\",\"varname\":\"fav\",\"mfname\":\"AT\",\"params\":[0.8,1.0,1.0]})\n",
    "\n",
    "\n",
    "fis.add_mfs({\"vartype\":\"output\",\"varname\":\"ctrl\",\"mfname\":\"BI\",\"params\":[0.0,0.0,0.10]})\n",
    "fis.add_mfs({\"vartype\":\"output\",\"varname\":\"ctrl\",\"mfname\":\"B\",\"params\":[0.0,0.10,0.2]})\n",
    "fis.add_mfs({\"vartype\":\"output\",\"varname\":\"ctrl\",\"mfname\":\"M\",\"params\":[0.1,0.2,0.3]})\n",
    "fis.add_mfs({\"vartype\":\"output\",\"varname\":\"ctrl\",\"mfname\":\"MA\",\"params\":[0.2,0.3,0.4]})\n",
    "fis.add_mfs({\"vartype\":\"output\",\"varname\":\"ctrl\",\"mfname\":\"A\",\"params\":[0.3,0.4,0.5]})\n",
    "fis.add_mfs({\"vartype\":\"output\",\"varname\":\"ctrl\",\"mfname\":\"AT\",\"params\":[0.4,0.5,0.5]})\n",
    "\n",
    "\n",
    "\n",
    "#cria regras\n",
    "for p in [\"BI\",\"B\",\"M\",\"MA\",\"A\",\"AT\"]:\n",
    "    for f in [\"BI\",\"B\",\"M\",\"MA\",\"A\",\"AT\"]:\n",
    "        fis.add_rule({\"pop\":p,\"fav\":f},{\"ctrl\":\"BI\"})\n"
   ]
  },
  {
   "cell_type": "code",
   "execution_count": 37,
   "metadata": {},
   "outputs": [],
   "source": [
    "def dinamica(to,po,n):\n",
    "    p = [po]\n",
    "    fcn = lambda t: 1-0.5*np.cos(2*np.pi*t/12)\n",
    "    for i in range(n):\n",
    "        fav = 0.10*fcn(to+i)\n",
    "        res = fis.eval([p[i],fav]) \n",
    "        pn = (p[i]+fav)*(1-res[\"ctrl\"])\n",
    "        p.append(pn)\n",
    "    \n",
    "    return p\n",
    "\n",
    "\n",
    "def dinamica2(to,po,n,fis):\n",
    "    p = [po]\n",
    "    fcn = lambda t: 1-0.5*np.cos(2*np.pi*t/12)\n",
    "    u = [0]\n",
    "    for i in range(n):\n",
    "        fav = 0.10*fcn(to+i)\n",
    "        res = fis.eval([p[i],fav]) \n",
    "        pn = (p[i]+fav)*(1-res[\"ctrl\"])\n",
    "        p.append(pn)\n",
    "        u.append(res[\"ctrl\"])\n",
    "    \n",
    "    return p,u\n",
    "\n",
    "labels = [\"BI\",\"B\",\"M\",\"MA\",\"A\",\"AT\"]\n",
    "def objetivo(x):\n",
    "    fis.rules = {}\n",
    "    cnt = 0\n",
    "    for p in labels:\n",
    "        for f in labels:\n",
    "            fis.add_rule({\"pop\":p,\"fav\":f},{\"ctrl\":labels[x[cnt]]})\n",
    "            cnt = cnt+1\n",
    "    \n",
    "    pp,uu = dinamica2(0,0.05,12,fis)\n",
    "\n",
    "    obj = (pp[-1]-0.3)**2+0.1*sum([u**2 for u in uu ])\n",
    "\n",
    "    return obj\n",
    "    \n"
   ]
  },
  {
   "cell_type": "code",
   "execution_count": 44,
   "metadata": {},
   "outputs": [
    {
     "data": {
      "text/plain": [
       "0.30170478697276837"
      ]
     },
     "execution_count": 44,
     "metadata": {},
     "output_type": "execute_result"
    }
   ],
   "source": [
    "obj = objetivo([5]*36)\n",
    "obj"
   ]
  },
  {
   "cell_type": "code",
   "execution_count": 4,
   "metadata": {},
   "outputs": [],
   "source": [
    "from pyomo.environ import *"
   ]
  },
  {
   "cell_type": "code",
   "execution_count": 38,
   "metadata": {},
   "outputs": [],
   "source": [
    "# Cria um modelo\n",
    "modelo = ConcreteModel()\n",
    "modelo.x = Var(range(36), domain=Integers, bounds=(0, 5))\n",
    "valores_iniciais = [random.randint(0,5) for i in range(36)]   # Por exemplo, atribuir o valor 1 a todas as variáveis inicialmente\n",
    "for i in range(36):\n",
    "    modelo.x[i].value = valores_iniciais[i]\n",
    "modelo.obj= Objective(rule=lambda modelo: objetivo([value(modelo.x[i]) for i in range(36)]), sense=minimize)\n",
    "solver = SolverFactory('glpk')\n",
    "resultado = solver.solve(modelo)\n"
   ]
  },
  {
   "cell_type": "code",
   "execution_count": 39,
   "metadata": {},
   "outputs": [
    {
     "name": "stdout",
     "output_type": "stream",
     "text": [
      "Status: optimal\n",
      "x[0] = 3\n",
      "x[1] = 5\n",
      "x[2] = 5\n",
      "x[3] = 3\n",
      "x[4] = 5\n",
      "x[5] = 3\n",
      "x[6] = 0\n",
      "x[7] = 2\n",
      "x[8] = 5\n",
      "x[9] = 3\n",
      "x[10] = 1\n",
      "x[11] = 5\n",
      "x[12] = 3\n",
      "x[13] = 2\n",
      "x[14] = 4\n",
      "x[15] = 4\n",
      "x[16] = 5\n",
      "x[17] = 5\n",
      "x[18] = 5\n",
      "x[19] = 2\n",
      "x[20] = 5\n",
      "x[21] = 3\n",
      "x[22] = 2\n",
      "x[23] = 1\n",
      "x[24] = 3\n",
      "x[25] = 4\n",
      "x[26] = 5\n",
      "x[27] = 5\n",
      "x[28] = 4\n",
      "x[29] = 5\n",
      "x[30] = 3\n",
      "x[31] = 3\n",
      "x[32] = 4\n",
      "x[33] = 0\n",
      "x[34] = 0\n",
      "x[35] = 5\n",
      "Valor da função objetivo: 0.06439608136008257\n"
     ]
    }
   ],
   "source": [
    "print(\"Status:\", resultado.solver.termination_condition)\n",
    "\n",
    "# Imprima os valores das variáveis\n",
    "for i in range(36):\n",
    "    print(\"x[{}] = {}\".format(i, value(modelo.x[i])))\n",
    "\n",
    "# Imprima o valor da função objetivo\n",
    "print(\"Valor da função objetivo:\", value(modelo.obj))"
   ]
  },
  {
   "cell_type": "code",
   "execution_count": 40,
   "metadata": {},
   "outputs": [
    {
     "data": {
      "text/plain": [
       "[3,\n",
       " 5,\n",
       " 5,\n",
       " 3,\n",
       " 5,\n",
       " 3,\n",
       " 0,\n",
       " 2,\n",
       " 5,\n",
       " 3,\n",
       " 1,\n",
       " 5,\n",
       " 3,\n",
       " 2,\n",
       " 4,\n",
       " 4,\n",
       " 5,\n",
       " 5,\n",
       " 5,\n",
       " 2,\n",
       " 5,\n",
       " 3,\n",
       " 2,\n",
       " 1,\n",
       " 3,\n",
       " 4,\n",
       " 5,\n",
       " 5,\n",
       " 4,\n",
       " 5,\n",
       " 3,\n",
       " 3,\n",
       " 4,\n",
       " 0,\n",
       " 0,\n",
       " 5]"
      ]
     },
     "execution_count": 40,
     "metadata": {},
     "output_type": "execute_result"
    }
   ],
   "source": [
    "valores_iniciais"
   ]
  }
 ],
 "metadata": {
  "kernelspec": {
   "display_name": "basico",
   "language": "python",
   "name": "python3"
  },
  "language_info": {
   "codemirror_mode": {
    "name": "ipython",
    "version": 3
   },
   "file_extension": ".py",
   "mimetype": "text/x-python",
   "name": "python",
   "nbconvert_exporter": "python",
   "pygments_lexer": "ipython3",
   "version": "3.10.8"
  }
 },
 "nbformat": 4,
 "nbformat_minor": 2
}
