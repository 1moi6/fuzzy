{
 "cells": [
  {
   "cell_type": "code",
   "execution_count": 16,
   "metadata": {},
   "outputs": [],
   "source": [
    "import numpy as np\n",
    "import fuzzy\n",
    "import matplotlib.pyplot as plt"
   ]
  },
  {
   "cell_type": "code",
   "execution_count": 18,
   "metadata": {},
   "outputs": [],
   "source": [
    "fis = fuzzy.mandani()\n",
    "fis.add_var({\"type\":\"input\",\"name\":\"pop\",\"range\":[0.0,1.0]})\n",
    "fis.add_var({\"type\":\"input\",\"name\":\"fav\",\"range\":[0.0,1.0]})\n",
    "fis.add_var({\"type\":\"output\",\"name\":\"ctrl\",\"range\":[0.0,0.5]})\n",
    "\n",
    "fis.add_mfs({\"vartype\":\"input\",\"varname\":\"pop\",\"mfname\":\"BI\",\"params\":[0.0,0.0,0.20]})\n",
    "fis.add_mfs({\"vartype\":\"input\",\"varname\":\"pop\",\"mfname\":\"B\",\"params\":[0.0,0.20,0.4]})\n",
    "fis.add_mfs({\"vartype\":\"input\",\"varname\":\"pop\",\"mfname\":\"M\",\"params\":[0.2,0.4,0.6]})\n",
    "fis.add_mfs({\"vartype\":\"input\",\"varname\":\"pop\",\"mfname\":\"MA\",\"params\":[0.4,0.6,0.8]})\n",
    "fis.add_mfs({\"vartype\":\"input\",\"varname\":\"pop\",\"mfname\":\"A\",\"params\":[0.6,0.8,1.0]})\n",
    "fis.add_mfs({\"vartype\":\"input\",\"varname\":\"pop\",\"mfname\":\"AT\",\"params\":[0.8,1.0,1.0]})\n",
    "\n",
    "\n",
    "fis.add_mfs({\"vartype\":\"input\",\"varname\":\"fav\",\"mfname\":\"BI\",\"params\":[0.0,0.0,0.20]})\n",
    "fis.add_mfs({\"vartype\":\"input\",\"varname\":\"fav\",\"mfname\":\"B\",\"params\":[0.0,0.20,0.4]})\n",
    "fis.add_mfs({\"vartype\":\"input\",\"varname\":\"fav\",\"mfname\":\"M\",\"params\":[0.2,0.4,0.6]})\n",
    "fis.add_mfs({\"vartype\":\"input\",\"varname\":\"fav\",\"mfname\":\"MA\",\"params\":[0.4,0.6,0.8]})\n",
    "fis.add_mfs({\"vartype\":\"input\",\"varname\":\"fav\",\"mfname\":\"A\",\"params\":[0.6,0.8,1.0]})\n",
    "fis.add_mfs({\"vartype\":\"input\",\"varname\":\"fav\",\"mfname\":\"AT\",\"params\":[0.8,1.0,1.0]})\n",
    "\n",
    "\n",
    "fis.add_mfs({\"vartype\":\"output\",\"varname\":\"ctrl\",\"mfname\":\"BI\",\"params\":[0.0,0.0,0.10]})\n",
    "fis.add_mfs({\"vartype\":\"output\",\"varname\":\"ctrl\",\"mfname\":\"B\",\"params\":[0.0,0.10,0.2]})\n",
    "fis.add_mfs({\"vartype\":\"output\",\"varname\":\"ctrl\",\"mfname\":\"M\",\"params\":[0.1,0.2,0.3]})\n",
    "fis.add_mfs({\"vartype\":\"output\",\"varname\":\"ctrl\",\"mfname\":\"MA\",\"params\":[0.2,0.3,0.4]})\n",
    "fis.add_mfs({\"vartype\":\"output\",\"varname\":\"ctrl\",\"mfname\":\"A\",\"params\":[0.3,0.4,0.5]})\n",
    "fis.add_mfs({\"vartype\":\"output\",\"varname\":\"ctrl\",\"mfname\":\"AT\",\"params\":[0.4,0.5,0.5]})\n",
    "\n",
    "\n",
    "\n",
    "#cria regras\n",
    "for p in [\"BI\",\"B\",\"M\",\"MA\",\"A\",\"AT\"]:\n",
    "    for f in [\"BI\",\"B\",\"M\",\"MA\",\"A\",\"AT\"]:\n",
    "        fis.add_rule({\"pop\":p,\"fav\":f},{\"ctrl\":\"AT\"})\n"
   ]
  },
  {
   "cell_type": "code",
   "execution_count": 12,
   "metadata": {},
   "outputs": [
    {
     "data": {
      "text/plain": [
       "{'ctrl': 0.03250241354556031}"
      ]
     },
     "execution_count": 12,
     "metadata": {},
     "output_type": "execute_result"
    }
   ],
   "source": [
    "fis.eval([0,0])"
   ]
  },
  {
   "cell_type": "code",
   "execution_count": 19,
   "metadata": {},
   "outputs": [],
   "source": [
    "def dinamica(to,po,n):\n",
    "    p = [po]\n",
    "    fcn = lambda t: 1-0.5*np.cos(2*np.pi*t/12)\n",
    "    for i in range(n):\n",
    "        fav = fcn(to+i)\n",
    "        res = fis.eval([p[i],fav]) \n",
    "        pn = (1+fav)*p[i]*(1-res[\"ctrl\"])\n",
    "        p.append(pn)\n",
    "    \n",
    "    return p\n"
   ]
  },
  {
   "cell_type": "code",
   "execution_count": 20,
   "metadata": {},
   "outputs": [],
   "source": [
    "pp = dinamica(0,0.1,12)"
   ]
  },
  {
   "cell_type": "code",
   "execution_count": 21,
   "metadata": {},
   "outputs": [
    {
     "data": {
      "text/plain": [
       "[<matplotlib.lines.Line2D at 0x7fba0cc5d600>]"
      ]
     },
     "execution_count": 21,
     "metadata": {},
     "output_type": "execute_result"
    },
    {
     "data": {
      "image/png": "[encoded data removed]",
      "text/plain": [
       "<Figure size 640x480 with 1 Axes>"
      ]
     },
     "metadata": {},
     "output_type": "display_data"
    }
   ],
   "source": [
    "plt.plot(pp)"
   ]
  }
 ],
 "metadata": {
  "kernelspec": {
   "display_name": "basico",
   "language": "python",
   "name": "python3"
  },
  "language_info": {
   "codemirror_mode": {
    "name": "ipython",
    "version": 3
   },
   "file_extension": ".py",
   "mimetype": "text/x-python",
   "name": "python",
   "nbconvert_exporter": "python",
   "pygments_lexer": "ipython3",
   "version": "3.10.8"
  }
 },
 "nbformat": 4,
 "nbformat_minor": 2
}
